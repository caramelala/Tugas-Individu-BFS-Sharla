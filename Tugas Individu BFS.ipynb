{
  "metadata": {
    "kernelspec": {
      "name": "python",
      "display_name": "Python (Pyodide)",
      "language": "python"
    },
    "language_info": {
      "codemirror_mode": {
        "name": "python",
        "version": 3
      },
      "file_extension": ".py",
      "mimetype": "text/x-python",
      "name": "python",
      "nbconvert_exporter": "python",
      "pygments_lexer": "ipython3",
      "version": "3.8"
    }
  },
  "nbformat_minor": 4,
  "nbformat": 4,
  "cells": [
    {
      "cell_type": "code",
      "source": "\npeta = {'A': set(['B', 'H']),\n        'B': set(['A', 'C', 'H']),\n        'C': set(['B', 'D', 'E']), \n        'D': set(['C', 'E', 'F', 'G', 'H']),\n        'E': set(['C', 'D']),\n        'F': set(['D', 'G']),\n        'G': set(['F', 'D', 'H']),\n        'H': set(['A', 'B', 'D', 'G']),}\n\ndef bfs_lintasan_terpendek(pet, mulai, tujuan):\n    explored = []\n    queue = [[mulai]]\n    \n    if mulai == tujuan: \n        return \"awal adalah tujuan\"\n    \n    while queue: \n        jalur = queue.pop(0)\n        node = jalur[-1]\n        \n        if node not in explored: \n            neighbours = peta.get(node, [])  # Menggunakan get() untuk mengembalikan list kosong jika node tidak ditemukan\n            for neighbour in neighbours: \n                jalur_baru = list(jalur)\n                jalur_baru.append(neighbour)\n                queue.append(jalur_baru)\n                \n                if neighbour == tujuan:\n                    return jalur_baru\n            \n            explored.append(node)\n        \n    return \"Mohon maaf, node yang Anda pilih tidak ada.\"\n\nmulai  = input(\"Masukkan awal  :  \")\ntujuan = input(\"Masukkan akhir :  \")\n\nif mulai and tujuan:  # Memeriksa apakah kedua input tidak kosong\n    print(bfs_lintasan_terpendek(peta, mulai, tujuan))\nelse:\n    print(\"Input tidak boleh kosong. Mohon masukkan input yang valid.\")\n['A', 'H', 'D', 'E']\n",
      "metadata": {
        "trusted": true
      },
      "outputs": [
        {
          "name": "stdout",
          "text": "Mohon maaf, node yang Anda pilih tidak ada.\n",
          "output_type": "stream"
        },
        {
          "execution_count": 1,
          "output_type": "execute_result",
          "data": {
            "text/plain": "['A', 'H', 'D', 'E']"
          },
          "metadata": {}
        }
      ],
      "execution_count": 1
    },
    {
      "cell_type": "code",
      "source": "",
      "metadata": {
        "trusted": true
      },
      "outputs": [],
      "execution_count": null
    }
  ]
}